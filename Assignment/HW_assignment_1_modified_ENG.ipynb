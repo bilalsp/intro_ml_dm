{
 "cells": [
  {
   "cell_type": "markdown",
   "metadata": {
    "collapsed": true
   },
   "source": [
    "# \"Intro to Collaborative Filtering\" plus homework\n",
    "\n",
    "## Authors: Dmitry Ignatov\n",
    "Freely avaiable for non-commercial purposes. The code examples are based on T. Segaran [Programming Collective Intelligence book. Chapter 2](http://shop.oreilly.com/product/9780596529321.do)\n",
    "\n",
    "\n",
    "\n",
    "\n"
   ]
  },
  {
   "cell_type": "markdown",
   "metadata": {},
   "source": [
    "## Dictionary with user preferences"
   ]
  },
  {
   "cell_type": "code",
   "execution_count": 1,
   "metadata": {},
   "outputs": [],
   "source": [
    "# A dictionary of movie critics and their ratings of a small\n",
    "# set of movies\n",
    "\n",
    "critics={'Lisa Rose': {'Lady in the Water': 2.5, 'Snakes on a Plane': 3.5,\n",
    " 'Just My Luck': 3.0, 'Superman Returns': 3.5, 'You, Me and Dupree': 2.5, \n",
    " 'The Night Listener': 3.0},\n",
    "'Gene Seymour': {'Lady in the Water': 3.0, 'Snakes on a Plane': 3.5, \n",
    " 'Just My Luck': 1.5, 'Superman Returns': 5.0, 'The Night Listener': 3.0, \n",
    " 'You, Me and Dupree': 3.5}, \n",
    "'Michael Phillips': {'Lady in the Water': 2.5, 'Snakes on a Plane': 3.0,\n",
    " 'Superman Returns': 3.5, 'The Night Listener': 4.0},\n",
    "'Claudia Puig': {'Snakes on a Plane': 3.5, 'Just My Luck': 3.0,\n",
    " 'The Night Listener': 4.5, 'Superman Returns': 4.0, \n",
    " 'You, Me and Dupree': 2.5},\n",
    "'Mick LaSalle': {'Lady in the Water': 3.0, 'Snakes on a Plane': 4.0, \n",
    " 'Just My Luck': 2.0, 'Superman Returns': 3.0, 'The Night Listener': 3.0,\n",
    " 'You, Me and Dupree': 2.0}, \n",
    "'Jack Matthews': {'Lady in the Water': 3.0, 'Snakes on a Plane': 4.0,\n",
    " 'The Night Listener': 3.0, 'Superman Returns': 5.0, 'You, Me and Dupree': 3.5},\n",
    "'Toby': {'Snakes on a Plane':4.5,'You, Me and Dupree':1.0,'Superman Returns':4.0}}"
   ]
  },
  {
   "cell_type": "code",
   "execution_count": 2,
   "metadata": {},
   "outputs": [
    {
     "data": {
      "text/plain": [
       "{'Snakes on a Plane': 4.5, 'You, Me and Dupree': 1.0, 'Superman Returns': 4.0}"
      ]
     },
     "execution_count": 2,
     "metadata": {},
     "output_type": "execute_result"
    }
   ],
   "source": [
    "critics['Toby']"
   ]
  },
  {
   "cell_type": "code",
   "execution_count": 3,
   "metadata": {},
   "outputs": [
    {
     "data": {
      "text/plain": [
       "2.5"
      ]
     },
     "execution_count": 3,
     "metadata": {},
     "output_type": "execute_result"
    }
   ],
   "source": [
    "critics['Lisa Rose']['Lady in the Water']\n"
   ]
  },
  {
   "cell_type": "code",
   "execution_count": 4,
   "metadata": {},
   "outputs": [
    {
     "data": {
      "text/plain": [
       "3.1622776601683795"
      ]
     },
     "execution_count": 4,
     "metadata": {},
     "output_type": "execute_result"
    }
   ],
   "source": [
    "#Euclid distance\n",
    "from math import sqrt\n",
    "sqrt(pow(5-4,2)+pow(4-1,2))\n"
   ]
  },
  {
   "cell_type": "code",
   "execution_count": 5,
   "metadata": {},
   "outputs": [
    {
     "data": {
      "text/plain": [
       "0.6666666666666666"
      ]
     },
     "execution_count": 5,
     "metadata": {},
     "output_type": "execute_result"
    }
   ],
   "source": [
    "#distance-based simialrity \n",
    "1/(1+sqrt(pow(5-4.5,2)+pow(5-5,2)))\n"
   ]
  },
  {
   "cell_type": "code",
   "execution_count": 27,
   "metadata": {},
   "outputs": [],
   "source": [
    "from numpy import exp"
   ]
  },
  {
   "cell_type": "code",
   "execution_count": 28,
   "metadata": {},
   "outputs": [
    {
     "data": {
      "text/plain": [
       "0.8607079764250578"
      ]
     },
     "execution_count": 28,
     "metadata": {},
     "output_type": "execute_result"
    }
   ],
   "source": [
    "exp(-0.3*sqrt(pow(5-4.5,2)+pow(5-5,2)))\n"
   ]
  },
  {
   "cell_type": "code",
   "execution_count": 12,
   "metadata": {},
   "outputs": [],
   "source": [
    "from math import sqrt\n",
    "# Returns a distance-based similarity score for person1 and person2\n",
    "def sim_distance(prefs,person1,person2):\n",
    "# Get the list of shared_items\n",
    "    si={}\n",
    "    for item in prefs[person1]:\n",
    "        if item in prefs[person2]:\n",
    "            si[item]=1\n",
    "# if they have no ratings in common, return 0\n",
    "    if len(si)==0: return 0\n",
    "# Add up the squares of all the differences\n",
    "    sum_of_squares=sum([pow(prefs[person1][item]-prefs[person2][item],2)\n",
    "    for item in prefs[person1] if item in prefs[person2]])\n",
    "    return 1/(1+sum_of_squares)\n"
   ]
  },
  {
   "cell_type": "code",
   "execution_count": 13,
   "metadata": {},
   "outputs": [],
   "source": [
    "from math import sqrt\n",
    "# Returns a distance-based similarity score for person1 and person2\n",
    "def sim_kernel(prefs,person1,person2,alpha=0.3):\n",
    "# Get the list of shared_items\n",
    "    si={}\n",
    "    for item in prefs[person1]:\n",
    "        if item in prefs[person2]:\n",
    "            si[item]=1\n",
    "# if they have no ratings in common, return 0\n",
    "    if len(si)==0: return 0\n",
    "# Add up the squares of all the differences and take the wieghted exponent\n",
    "    sum_of_squares=sum([pow(prefs[person1][item]-prefs[person2][item],2)\n",
    "    for item in prefs[person1] if item in prefs[person2]])\n",
    "    return exp(-alpha*sum_of_squares)"
   ]
  },
  {
   "cell_type": "code",
   "execution_count": 29,
   "metadata": {},
   "outputs": [
    {
     "data": {
      "text/plain": [
       "0.3499377491111553"
      ]
     },
     "execution_count": 29,
     "metadata": {},
     "output_type": "execute_result"
    }
   ],
   "source": [
    "sim_kernel(critics, 'Lisa Rose','Toby')"
   ]
  },
  {
   "cell_type": "code",
   "execution_count": 15,
   "metadata": {},
   "outputs": [
    {
     "data": {
      "text/plain": [
       "0.2222222222222222"
      ]
     },
     "execution_count": 15,
     "metadata": {},
     "output_type": "execute_result"
    }
   ],
   "source": [
    "sim_distance(critics, 'Lisa Rose','Toby')"
   ]
  },
  {
   "cell_type": "code",
   "execution_count": 17,
   "metadata": {},
   "outputs": [],
   "source": [
    "# Returns the Pearson correlation coefficient for p1 and p2\n",
    "def sim_pearson(prefs,p1,p2):\n",
    " # Get the list of mutually rated items\n",
    "    si={}\n",
    "    for item in prefs[p1]: \n",
    "        if item in prefs[p2]: si[item]=1\n",
    "\n",
    "     # if they are no ratings in common, return 0\n",
    "    if len(si)==0: return 0\n",
    "\n",
    "    # The number of mutually rated movies\n",
    "    n=len(si)\n",
    "  \n",
    "    # Sums of all the preferences\n",
    "    sum1=sum([prefs[p1][it] for it in si])\n",
    "    sum2=sum([prefs[p2][it] for it in si])\n",
    "  \n",
    "    # Sums of the squares\n",
    "    sum1Sq=sum([pow(prefs[p1][it],2) for it in si])\n",
    "    sum2Sq=sum([pow(prefs[p2][it],2) for it in si])\t\n",
    "  \n",
    "     # Sum of the products\n",
    "    pSum=sum([prefs[p1][it]*prefs[p2][it] for it in si])\n",
    "  \n",
    "     # Calculate r (Pearson score)\n",
    "    num=pSum-(sum1*sum2/n)\n",
    "    den=sqrt((sum1Sq-pow(sum1,2)/n)*(sum2Sq-pow(sum2,2)/n))\n",
    "    if den==0: return 0\n",
    "\n",
    "    r=num/den\n",
    "\n",
    "    return r"
   ]
  },
  {
   "cell_type": "code",
   "execution_count": 18,
   "metadata": {},
   "outputs": [
    {
     "data": {
      "text/plain": [
       "(0.39605901719066977, 0.14814814814814814)"
      ]
     },
     "execution_count": 18,
     "metadata": {},
     "output_type": "execute_result"
    }
   ],
   "source": [
    "sim_pearson(critics,'Lisa Rose','Gene Seymour'), sim_distance(critics, 'Lisa Rose','Gene Seymour')\n",
    "\n"
   ]
  },
  {
   "cell_type": "markdown",
   "metadata": {},
   "source": [
    "##  Ranking of critics"
   ]
  },
  {
   "cell_type": "code",
   "execution_count": 23,
   "metadata": {},
   "outputs": [],
   "source": [
    "# Returns the best matches for person from the prefs dictionary. \n",
    "# Number of results and similarity function are optional params.\n",
    "\n",
    "def topMatches(prefs,person,n=5,similarity=sim_pearson):\n",
    "    scores=[(similarity(prefs,person,other),other)\n",
    "    for other in prefs if other!=person]\n",
    "    # Descending sorting\n",
    "    scores.sort( )\n",
    "    scores.reverse( )\n",
    "    return scores[0:n]\n"
   ]
  },
  {
   "cell_type": "code",
   "execution_count": 24,
   "metadata": {},
   "outputs": [
    {
     "data": {
      "text/plain": [
       "[(0.3076923076923077, 'Mick LaSalle'),\n",
       " (0.2857142857142857, 'Michael Phillips'),\n",
       " (0.23529411764705882, 'Claudia Puig')]"
      ]
     },
     "execution_count": 24,
     "metadata": {},
     "output_type": "execute_result"
    }
   ],
   "source": [
    "topMatches(critics,'Toby',n=3, similarity=sim_distance)"
   ]
  },
  {
   "cell_type": "code",
   "execution_count": 30,
   "metadata": {},
   "outputs": [
    {
     "data": {
      "text/plain": [
       "[(0.5091564206075492, 'Mick LaSalle'),\n",
       " (0.4723665527410147, 'Michael Phillips'),\n",
       " (0.37719235356315695, 'Claudia Puig')]"
      ]
     },
     "execution_count": 30,
     "metadata": {},
     "output_type": "execute_result"
    }
   ],
   "source": [
    "topMatches(critics,'Toby',n=3, similarity=sim_kernel)"
   ]
  },
  {
   "cell_type": "markdown",
   "metadata": {},
   "source": [
    "## Movie recommendation (User-based approach)"
   ]
  },
  {
   "cell_type": "code",
   "execution_count": 31,
   "metadata": {},
   "outputs": [],
   "source": [
    "# Gets recommendations for a person by using a weighted average\n",
    "# of every other user's rankings\n",
    "\n",
    "def getRecommendations(prefs,person,similarity=sim_pearson):\n",
    "    totals={}\n",
    "    simSums={}\n",
    "    for other in prefs:\n",
    "     # don't compare me to myself\n",
    "        if other==person: continue\n",
    "        sim=similarity(prefs,person,other)\n",
    "     # ignore scores of zero or lower\n",
    "        if sim<=0: continue\n",
    "        for item in prefs[other]:\n",
    "    # only score movies I haven't seen yet\n",
    "            if item not in prefs[person] or prefs[person][item]==0:\n",
    "     # Similarity * Score\n",
    "                totals.setdefault(item,0)\n",
    "                totals[item]+=prefs[other][item]*sim\n",
    "        # Sum of similarities\n",
    "                simSums.setdefault(item,0)\n",
    "                simSums[item]+=sim\n",
    "     # Create the normalized list\n",
    "    rankings=[(total/simSums[item],item) for item,total in totals.items( )]\n",
    "    # Return the sorted list\n",
    "    rankings.sort( )\n",
    "    rankings.reverse( )\n",
    "    return rankings"
   ]
  },
  {
   "cell_type": "code",
   "execution_count": 33,
   "metadata": {},
   "outputs": [
    {
     "data": {
      "text/plain": [
       "[(3.3477895267131017, 'The Night Listener'),\n",
       " (2.8325499182641614, 'Lady in the Water'),\n",
       " (2.530980703765565, 'Just My Luck')]"
      ]
     },
     "execution_count": 33,
     "metadata": {},
     "output_type": "execute_result"
    }
   ],
   "source": [
    "getRecommendations(critics,'Toby')\n"
   ]
  },
  {
   "cell_type": "code",
   "execution_count": 34,
   "metadata": {},
   "outputs": [
    {
     "data": {
      "text/plain": [
       "[(3.5469111370529656, 'The Night Listener'),\n",
       " (2.729687080418633, 'Lady in the Water'),\n",
       " (2.518799545549861, 'Just My Luck')]"
      ]
     },
     "execution_count": 34,
     "metadata": {},
     "output_type": "execute_result"
    }
   ],
   "source": [
    "getRecommendations(critics,'Toby', sim_kernel)"
   ]
  },
  {
   "cell_type": "markdown",
   "metadata": {},
   "source": [
    "## Items similarity\n",
    "\n",
    "How to replace \n",
    "\n",
    "{'Lisa Rose': {'Lady in the Water': 2.5, 'Snakes on a Plane': 3.5},\n",
    "'Gene Seymour': {'Lady in the Water': 3.0, 'Snakes on a Plane': 3.5}}\n",
    "\n",
    "by\n",
    "\n",
    "{'Lady in the Water':{'Lisa Rose':2.5,'Gene Seymour':3.0},\n",
    "'Snakes on a Plane':{'Lisa Rose':3.5,'Gene Seymour':3.5}}?\n"
   ]
  },
  {
   "cell_type": "code",
   "execution_count": 35,
   "metadata": {},
   "outputs": [],
   "source": [
    "def transformPrefs(prefs):\n",
    "    result={}\n",
    "    for person in prefs:\n",
    "        for item in prefs[person]:\n",
    "            result.setdefault(item,{})\n",
    "    # Flip item and person\n",
    "    \n",
    "            result[item][person]=prefs[person][item]\n",
    "    return result"
   ]
  },
  {
   "cell_type": "code",
   "execution_count": 36,
   "metadata": {},
   "outputs": [],
   "source": [
    "movies=transformPrefs(critics)\n"
   ]
  },
  {
   "cell_type": "code",
   "execution_count": 37,
   "metadata": {},
   "outputs": [
    {
     "data": {
      "text/plain": [
       "{'Lady in the Water': {'Lisa Rose': 2.5,\n",
       "  'Gene Seymour': 3.0,\n",
       "  'Michael Phillips': 2.5,\n",
       "  'Mick LaSalle': 3.0,\n",
       "  'Jack Matthews': 3.0},\n",
       " 'Snakes on a Plane': {'Lisa Rose': 3.5,\n",
       "  'Gene Seymour': 3.5,\n",
       "  'Michael Phillips': 3.0,\n",
       "  'Claudia Puig': 3.5,\n",
       "  'Mick LaSalle': 4.0,\n",
       "  'Jack Matthews': 4.0,\n",
       "  'Toby': 4.5},\n",
       " 'Just My Luck': {'Lisa Rose': 3.0,\n",
       "  'Gene Seymour': 1.5,\n",
       "  'Claudia Puig': 3.0,\n",
       "  'Mick LaSalle': 2.0},\n",
       " 'Superman Returns': {'Lisa Rose': 3.5,\n",
       "  'Gene Seymour': 5.0,\n",
       "  'Michael Phillips': 3.5,\n",
       "  'Claudia Puig': 4.0,\n",
       "  'Mick LaSalle': 3.0,\n",
       "  'Jack Matthews': 5.0,\n",
       "  'Toby': 4.0},\n",
       " 'You, Me and Dupree': {'Lisa Rose': 2.5,\n",
       "  'Gene Seymour': 3.5,\n",
       "  'Claudia Puig': 2.5,\n",
       "  'Mick LaSalle': 2.0,\n",
       "  'Jack Matthews': 3.5,\n",
       "  'Toby': 1.0},\n",
       " 'The Night Listener': {'Lisa Rose': 3.0,\n",
       "  'Gene Seymour': 3.0,\n",
       "  'Michael Phillips': 4.0,\n",
       "  'Claudia Puig': 4.5,\n",
       "  'Mick LaSalle': 3.0,\n",
       "  'Jack Matthews': 3.0}}"
      ]
     },
     "execution_count": 37,
     "metadata": {},
     "output_type": "execute_result"
    }
   ],
   "source": [
    "movies"
   ]
  },
  {
   "cell_type": "code",
   "execution_count": 38,
   "metadata": {},
   "outputs": [
    {
     "data": {
      "text/plain": [
       "[(0.7637626158259785, 'Lady in the Water'),\n",
       " (0.11180339887498941, 'Superman Returns'),\n",
       " (-0.3333333333333333, 'Just My Luck'),\n",
       " (-0.5663521139548527, 'The Night Listener'),\n",
       " (-0.6454972243679047, 'You, Me and Dupree')]"
      ]
     },
     "execution_count": 38,
     "metadata": {},
     "output_type": "execute_result"
    }
   ],
   "source": [
    "topMatches(movies,'Snakes on a Plane',5, sim_pearson)"
   ]
  },
  {
   "cell_type": "code",
   "execution_count": 39,
   "metadata": {},
   "outputs": [
    {
     "data": {
      "text/plain": [
       "[(3.352635310801229, 'Claudia Puig'), (2.4730878186968837, 'Toby')]"
      ]
     },
     "execution_count": 39,
     "metadata": {},
     "output_type": "execute_result"
    }
   ],
   "source": [
    "getRecommendations(movies,'Lady in the Water', sim_distance)"
   ]
  },
  {
   "cell_type": "markdown",
   "metadata": {},
   "source": [
    "## Item-based collaborative filtering"
   ]
  },
  {
   "cell_type": "code",
   "execution_count": 40,
   "metadata": {},
   "outputs": [],
   "source": [
    "def calculateSimilarItems(prefs,n=10):\n",
    "    # Create a dictionary of items showing which other items they\n",
    "  # are most similar to.\n",
    "    result={}\n",
    "    # Invert the preference matrix to be item-centric\n",
    "    itemPrefs=transformPrefs(prefs)\n",
    "    c=0\n",
    "    for item in itemPrefs:\n",
    "    # Status updates for large datasets\n",
    "        c+=1\n",
    "        if c%100==0: print(\"%d / %d\" % (c,len(itemPrefs)))\n",
    "    # Find the most similar items to this one\n",
    "        scores=topMatches(itemPrefs,item,n=n,similarity=sim_distance)\n",
    "        result[item]=scores\n",
    "    return result"
   ]
  },
  {
   "cell_type": "code",
   "execution_count": 42,
   "metadata": {},
   "outputs": [
    {
     "data": {
      "text/plain": [
       "{'Lady in the Water': [(0.4, 'You, Me and Dupree'),\n",
       "  (0.2857142857142857, 'The Night Listener'),\n",
       "  (0.2222222222222222, 'Snakes on a Plane'),\n",
       "  (0.2222222222222222, 'Just My Luck'),\n",
       "  (0.09090909090909091, 'Superman Returns')],\n",
       " 'Snakes on a Plane': [(0.2222222222222222, 'Lady in the Water'),\n",
       "  (0.18181818181818182, 'The Night Listener'),\n",
       "  (0.16666666666666666, 'Superman Returns'),\n",
       "  (0.10526315789473684, 'Just My Luck'),\n",
       "  (0.05128205128205128, 'You, Me and Dupree')],\n",
       " 'Just My Luck': [(0.2222222222222222, 'Lady in the Water'),\n",
       "  (0.18181818181818182, 'You, Me and Dupree'),\n",
       "  (0.15384615384615385, 'The Night Listener'),\n",
       "  (0.10526315789473684, 'Snakes on a Plane'),\n",
       "  (0.06451612903225806, 'Superman Returns')],\n",
       " 'Superman Returns': [(0.16666666666666666, 'Snakes on a Plane'),\n",
       "  (0.10256410256410256, 'The Night Listener'),\n",
       "  (0.09090909090909091, 'Lady in the Water'),\n",
       "  (0.06451612903225806, 'Just My Luck'),\n",
       "  (0.05333333333333334, 'You, Me and Dupree')],\n",
       " 'You, Me and Dupree': [(0.4, 'Lady in the Water'),\n",
       "  (0.18181818181818182, 'Just My Luck'),\n",
       "  (0.14814814814814814, 'The Night Listener'),\n",
       "  (0.05333333333333334, 'Superman Returns'),\n",
       "  (0.05128205128205128, 'Snakes on a Plane')],\n",
       " 'The Night Listener': [(0.2857142857142857, 'Lady in the Water'),\n",
       "  (0.18181818181818182, 'Snakes on a Plane'),\n",
       "  (0.15384615384615385, 'Just My Luck'),\n",
       "  (0.14814814814814814, 'You, Me and Dupree'),\n",
       "  (0.10256410256410256, 'Superman Returns')]}"
      ]
     },
     "execution_count": 42,
     "metadata": {},
     "output_type": "execute_result"
    }
   ],
   "source": [
    "itemsim=calculateSimilarItems(critics)\n",
    "itemsim"
   ]
  },
  {
   "cell_type": "code",
   "execution_count": 43,
   "metadata": {},
   "outputs": [],
   "source": [
    "def getRecommendedItems(prefs,itemMatch,user):\n",
    "    userRatings=prefs[user]\n",
    "    scores={}\n",
    "    totalSim={}\n",
    "\n",
    "    # Loop over items rated by this user\n",
    "    for (item,rating) in userRatings.items():\n",
    "        \n",
    "    # Loop over items similar to this one\n",
    "        for (similarity,item2) in itemMatch[item]:\n",
    "    # Ignore if this user has already rated this item\n",
    "            if item2 in userRatings: continue\n",
    "         # Weighted sum of rating times similarity\n",
    "            scores.setdefault(item2,0)\n",
    "            scores[item2]+=similarity*rating\n",
    "         # Sum of all the similarities\n",
    "            totalSim.setdefault(item2,0)\n",
    "            totalSim[item2]+=similarity\n",
    "            if totalSim[item2]==0: totalSim[item2]=0.0000001 # to avoid divison by zero\n",
    "    # Divide each total score by total weighting to get an average\n",
    "    rankings=[(score/totalSim[item],item) for item,score in scores.items( ) ]\n",
    "\n",
    "    # Return the rankings from highest to lowest\n",
    "    rankings.sort( )\n",
    "    rankings.reverse( )\n",
    "    return rankings"
   ]
  },
  {
   "cell_type": "code",
   "execution_count": 44,
   "metadata": {},
   "outputs": [
    {
     "data": {
      "text/plain": [
       "[(3.182634730538922, 'The Night Listener'),\n",
       " (2.5983318700614575, 'Just My Luck'),\n",
       " (2.4730878186968837, 'Lady in the Water')]"
      ]
     },
     "execution_count": 44,
     "metadata": {},
     "output_type": "execute_result"
    }
   ],
   "source": [
    "getRecommendedItems(critics,itemsim,'Toby')\n",
    "\n"
   ]
  },
  {
   "cell_type": "markdown",
   "metadata": {},
   "source": [
    "## Recommendations on MovieLens data \n",
    "\n",
    "Source: http://grouplens.org/datasets/movielens/"
   ]
  },
  {
   "cell_type": "code",
   "execution_count": 45,
   "metadata": {},
   "outputs": [],
   "source": [
    "def loadMovieLens(path='data/'):\n",
    "# Get movie titles\n",
    "    movies={}\n",
    "    for line in open(path+'/u.item'):\n",
    "        (id,title)=line.split('|')[0:2]\n",
    "        movies[id]=title\n",
    " # Load data\n",
    "    prefs={}\n",
    "    for line in open(path+'/u.data'):\n",
    "        (user,movieid,rating,ts)=line.split('\\t')\n",
    "        prefs.setdefault(user,{})\n",
    "        prefs[user][movies[movieid]]=float(rating)\n",
    "    return prefs"
   ]
  },
  {
   "cell_type": "code",
   "execution_count": 46,
   "metadata": {},
   "outputs": [
    {
     "data": {
      "text/plain": [
       "{'Naked Gun 33 1/3: The Final Insult (1994)': 4.0,\n",
       " 'Con Air (1997)': 4.0,\n",
       " 'Sabrina (1995)': 4.0,\n",
       " 'Waterworld (1995)': 4.0,\n",
       " 'To Wong Foo, Thanks for Everything! Julie Newmar (1995)': 3.0,\n",
       " 'Clueless (1995)': 4.0,\n",
       " 'Jurassic Park (1993)': 5.0,\n",
       " 'Brady Bunch Movie, The (1995)': 2.0,\n",
       " 'Son in Law (1993)': 4.0,\n",
       " 'Indiana Jones and the Last Crusade (1989)': 5.0,\n",
       " 'Good, The Bad and The Ugly, The (1966)': 5.0,\n",
       " 'Dead Poets Society (1989)': 5.0,\n",
       " 'Dead Man Walking (1995)': 4.0,\n",
       " \"Joe's Apartment (1996)\": 2.0,\n",
       " 'GoldenEye (1995)': 4.0,\n",
       " 'M*A*S*H (1970)': 5.0,\n",
       " 'Something to Talk About (1995)': 2.0,\n",
       " 'Lightning Jack (1994)': 3.0,\n",
       " 'Big Green, The (1995)': 3.0,\n",
       " 'Cowboy Way, The (1994)': 3.0,\n",
       " \"Ulee's Gold (1997)\": 3.0,\n",
       " 'Addams Family Values (1993)': 2.0,\n",
       " '2001: A Space Odyssey (1968)': 5.0,\n",
       " 'Platoon (1986)': 3.0,\n",
       " 'Return of the Pink Panther, The (1974)': 4.0,\n",
       " 'Four Weddings and a Funeral (1994)': 5.0,\n",
       " 'Under Siege (1992)': 4.0,\n",
       " 'Ace Ventura: Pet Detective (1994)': 4.0,\n",
       " 'Die Hard: With a Vengeance (1995)': 4.0,\n",
       " 'Prefontaine (1997)': 5.0,\n",
       " 'Cops and Robbersons (1994)': 3.0,\n",
       " \"Pyromaniac's Love Story, A (1995)\": 3.0,\n",
       " 'Glory (1989)': 4.0,\n",
       " 'This Is Spinal Tap (1984)': 5.0,\n",
       " 'Multiplicity (1996)': 3.0,\n",
       " 'Tommy Boy (1995)': 4.0,\n",
       " 'Cool Hand Luke (1967)': 5.0,\n",
       " \"Monty Python's Life of Brian (1979)\": 4.0,\n",
       " 'Victor/Victoria (1982)': 4.0,\n",
       " 'Treasure of the Sierra Madre, The (1948)': 4.0,\n",
       " 'That Old Feeling (1997)': 4.0,\n",
       " 'Mrs. Doubtfire (1993)': 4.0,\n",
       " 'Professional, The (1994)': 4.0,\n",
       " 'True Lies (1994)': 5.0,\n",
       " 'Air Force One (1997)': 3.0,\n",
       " 'Speechless (1994)': 4.0,\n",
       " 'Sleepless in Seattle (1993)': 5.0,\n",
       " 'Young Frankenstein (1974)': 5.0,\n",
       " 'GoodFellas (1990)': 4.0,\n",
       " 'Fugitive, The (1993)': 5.0,\n",
       " 'In the Line of Fire (1993)': 5.0,\n",
       " 'Reality Bites (1994)': 3.0,\n",
       " 'Shadow, The (1994)': 3.0,\n",
       " 'Speed (1994)': 5.0,\n",
       " 'Batman Returns (1992)': 3.0,\n",
       " 'Conan the Barbarian (1981)': 3.0,\n",
       " 'Terminator 2: Judgment Day (1991)': 5.0,\n",
       " 'Strange Days (1995)': 3.0,\n",
       " 'Star Trek III: The Search for Spock (1984)': 4.0,\n",
       " \"Schindler's List (1993)\": 4.0,\n",
       " 'Sneakers (1992)': 4.0,\n",
       " 'Twelve Monkeys (1995)': 4.0,\n",
       " 'Switchblade Sisters (1975)': 2.0,\n",
       " 'Searching for Bobby Fischer (1993)': 4.0,\n",
       " 'Birdcage, The (1996)': 4.0,\n",
       " \"Singin' in the Rain (1952)\": 4.0,\n",
       " 'Shawshank Redemption, The (1994)': 5.0,\n",
       " 'Santa Clause, The (1994)': 4.0,\n",
       " 'Clear and Present Danger (1994)': 5.0,\n",
       " 'Dances with Wolves (1990)': 5.0,\n",
       " 'Deer Hunter, The (1978)': 3.0,\n",
       " 'Boot, Das (1981)': 4.0,\n",
       " 'Alien (1979)': 4.0,\n",
       " 'Speed 2: Cruise Control (1997)': 3.0,\n",
       " 'Maverick (1994)': 3.0,\n",
       " 'Jack (1996)': 3.0,\n",
       " 'Desperado (1995)': 3.0,\n",
       " 'Nutty Professor, The (1996)': 4.0,\n",
       " 'Batman (1989)': 3.0,\n",
       " 'Dave (1993)': 4.0,\n",
       " 'Crow, The (1994)': 3.0,\n",
       " 'Adventures of Robin Hood, The (1938)': 5.0,\n",
       " 'Blues Brothers, The (1980)': 5.0,\n",
       " 'Adventures of Priscilla, Queen of the Desert, The (1994)': 3.0,\n",
       " 'Raging Bull (1980)': 3.0,\n",
       " 'Batman & Robin (1997)': 4.0,\n",
       " 'Babe (1995)': 5.0,\n",
       " 'Raising Arizona (1987)': 3.0,\n",
       " 'Cliffhanger (1993)': 3.0,\n",
       " 'Top Gun (1986)': 5.0,\n",
       " 'Endless Summer 2, The (1994)': 3.0,\n",
       " 'Barcelona (1994)': 3.0,\n",
       " 'Twister (1996)': 4.0,\n",
       " 'Evil Dead II (1987)': 2.0,\n",
       " 'Sleepers (1996)': 4.0,\n",
       " 'Striptease (1996)': 2.0,\n",
       " 'Get Shorty (1995)': 5.0,\n",
       " 'So I Married an Axe Murderer (1993)': 2.0,\n",
       " 'Mission: Impossible (1996)': 4.0,\n",
       " 'Wizard of Oz, The (1939)': 5.0,\n",
       " 'Baby-Sitters Club, The (1995)': 2.0,\n",
       " 'When Harry Met Sally... (1989)': 5.0,\n",
       " 'Mother (1996)': 2.0,\n",
       " 'Star Trek IV: The Voyage Home (1986)': 5.0,\n",
       " 'Swimming with Sharks (1995)': 3.0,\n",
       " 'Net, The (1995)': 5.0,\n",
       " 'Private Benjamin (1980)': 4.0,\n",
       " 'Fargo (1996)': 5.0,\n",
       " 'Dumb & Dumber (1994)': 4.0,\n",
       " 'Stargate (1994)': 5.0,\n",
       " \"City Slickers II: The Legend of Curly's Gold (1994)\": 3.0,\n",
       " 'Hoop Dreams (1994)': 4.0,\n",
       " 'Young Guns (1988)': 3.0,\n",
       " 'Groundhog Day (1993)': 5.0,\n",
       " 'Bridge on the River Kwai, The (1957)': 5.0,\n",
       " 'Braveheart (1995)': 4.0,\n",
       " 'Vegas Vacation (1997)': 4.0,\n",
       " 'Michael (1996)': 4.0,\n",
       " 'Star Trek: The Wrath of Khan (1982)': 5.0,\n",
       " 'Muppet Treasure Island (1996)': 3.0,\n",
       " 'Nine Months (1995)': 4.0,\n",
       " 'Die Hard (1988)': 4.0,\n",
       " 'Bananas (1971)': 5.0,\n",
       " 'Forget Paris (1995)': 4.0,\n",
       " 'French Kiss (1995)': 5.0,\n",
       " 'Truth About Cats & Dogs, The (1996)': 4.0,\n",
       " 'Empire Strikes Back, The (1980)': 5.0,\n",
       " 'Dunston Checks In (1996)': 1.0,\n",
       " 'Star Trek: The Motion Picture (1979)': 3.0,\n",
       " 'Return of the Jedi (1983)': 5.0,\n",
       " 'Manchurian Candidate, The (1962)': 4.0,\n",
       " 'River Wild, The (1994)': 4.0,\n",
       " 'House Arrest (1996)': 3.0,\n",
       " 'Milk Money (1994)': 4.0,\n",
       " 'Godfather, The (1972)': 4.0,\n",
       " 'Low Down Dirty Shame, A (1994)': 3.0,\n",
       " 'Butch Cassidy and the Sundance Kid (1969)': 5.0,\n",
       " 'Wyatt Earp (1994)': 3.0,\n",
       " 'Star Wars (1977)': 5.0,\n",
       " 'To Kill a Mockingbird (1962)': 4.0,\n",
       " 'Magnificent Seven, The (1954)': 5.0,\n",
       " 'Back to the Future (1985)': 5.0,\n",
       " 'Hot Shots! Part Deux (1993)': 4.0,\n",
       " 'Great White Hype, The (1996)': 3.0,\n",
       " \"Dante's Peak (1997)\": 3.0,\n",
       " 'Matilda (1996)': 3.0,\n",
       " 'Junior (1994)': 4.0,\n",
       " 'Blade Runner (1982)': 4.0,\n",
       " 'Mars Attacks! (1996)': 3.0,\n",
       " 'My Favorite Year (1982)': 3.0,\n",
       " 'Broken Arrow (1996)': 3.0,\n",
       " 'Young Guns II (1990)': 2.0,\n",
       " 'Terminator, The (1984)': 5.0,\n",
       " 'Fish Called Wanda, A (1988)': 5.0,\n",
       " 'Down Periscope (1996)': 4.0,\n",
       " 'Hard Target (1993)': 4.0,\n",
       " 'Ed Wood (1994)': 3.0,\n",
       " 'Demolition Man (1993)': 3.0,\n",
       " 'Mask, The (1994)': 3.0,\n",
       " 'E.T. the Extra-Terrestrial (1982)': 3.0,\n",
       " 'Coneheads (1993)': 4.0,\n",
       " 'Man of the House (1995)': 3.0,\n",
       " 'That Thing You Do! (1996)': 4.0,\n",
       " 'Strictly Ballroom (1992)': 3.0,\n",
       " \"It's a Wonderful Life (1946)\": 5.0,\n",
       " 'Annie Hall (1977)': 4.0,\n",
       " 'Dragonheart (1996)': 4.0,\n",
       " 'Renaissance Man (1994)': 5.0,\n",
       " 'Kingpin (1996)': 4.0,\n",
       " 'In the Army Now (1994)': 4.0,\n",
       " 'Mighty Aphrodite (1995)': 3.0,\n",
       " \"Weekend at Bernie's (1989)\": 3.0,\n",
       " 'Clockwork Orange, A (1971)': 4.0,\n",
       " 'Heat (1995)': 3.0,\n",
       " 'Addicted to Love (1997)': 4.0,\n",
       " 'Program, The (1993)': 3.0,\n",
       " 'Grumpier Old Men (1995)': 4.0,\n",
       " 'Bad Boys (1995)': 4.0,\n",
       " 'American President, The (1995)': 5.0,\n",
       " 'Grease (1978)': 4.0,\n",
       " 'Full Metal Jacket (1987)': 4.0,\n",
       " 'Air Up There, The (1994)': 3.0,\n",
       " 'Home Alone (1990)': 4.0,\n",
       " 'Jimmy Hollywood (1994)': 3.0,\n",
       " 'I.Q. (1994)': 5.0,\n",
       " 'First Wives Club, The (1996)': 2.0,\n",
       " 'Boomerang (1992)': 3.0,\n",
       " 'Heathers (1989)': 3.0,\n",
       " 'While You Were Sleeping (1995)': 5.0,\n",
       " 'Star Trek: First Contact (1996)': 4.0,\n",
       " 'Independence Day (ID4) (1996)': 5.0,\n",
       " 'Lost World: Jurassic Park, The (1997)': 3.0,\n",
       " 'Raiders of the Lost Ark (1981)': 5.0,\n",
       " 'To Die For (1995)': 3.0,\n",
       " 'I Love Trouble (1994)': 3.0,\n",
       " 'Citizen Kane (1941)': 4.0,\n",
       " 'Sleeper (1973)': 4.0,\n",
       " 'Quiet Man, The (1952)': 5.0,\n",
       " 'Sting, The (1973)': 5.0,\n",
       " 'Up in Smoke (1978)': 3.0,\n",
       " 'Executive Decision (1996)': 3.0,\n",
       " 'Jeffrey (1995)': 3.0,\n",
       " 'Inkwell, The (1994)': 3.0,\n",
       " 'Serial Mom (1994)': 1.0,\n",
       " 'Pulp Fiction (1994)': 4.0,\n",
       " 'Supercop (1992)': 3.0,\n",
       " 'Major Payne (1994)': 3.0,\n",
       " 'Big Squeeze, The (1996)': 2.0,\n",
       " 'Days of Thunder (1990)': 5.0,\n",
       " 'Apocalypse Now (1979)': 4.0}"
      ]
     },
     "execution_count": 46,
     "metadata": {},
     "output_type": "execute_result"
    }
   ],
   "source": [
    "prefs=loadMovieLens( )\n",
    "prefs['87']"
   ]
  },
  {
   "cell_type": "code",
   "execution_count": 47,
   "metadata": {},
   "outputs": [
    {
     "data": {
      "text/plain": [
       "210"
      ]
     },
     "execution_count": 47,
     "metadata": {},
     "output_type": "execute_result"
    }
   ],
   "source": [
    "len(prefs['87'])"
   ]
  },
  {
   "cell_type": "code",
   "execution_count": 48,
   "metadata": {
    "scrolled": true
   },
   "outputs": [
    {
     "data": {
      "text/plain": [
       "[(5.0, 'They Made Me a Criminal (1939)'),\n",
       " (5.0, 'Star Kid (1997)'),\n",
       " (5.0, 'Santa with Muscles (1996)'),\n",
       " (5.0, 'Saint of Fort Washington, The (1993)'),\n",
       " (5.0, 'Marlene Dietrich: Shadow and Light (1996) '),\n",
       " (5.0, 'Great Day in Harlem, A (1994)'),\n",
       " (5.0, 'Entertaining Angels: The Dorothy Day Story (1996)'),\n",
       " (5.0, 'Boys, Les (1997)'),\n",
       " (4.89884443128923, 'Legal Deceit (1997)'),\n",
       " (4.815019082242709, 'Letter From Death Row, A (1998)'),\n",
       " (4.7321082983941425, 'Hearts and Minds (1996)'),\n",
       " (4.696244466490867, 'Pather Panchali (1955)'),\n",
       " (4.652397061026758, 'Lamerica (1994)'),\n",
       " (4.538723693474813, 'Leading Man, The (1996)'),\n",
       " (4.535081339106105, 'Mrs. Dalloway (1997)'),\n",
       " (4.532337612572981, 'Innocents, The (1961)'),\n",
       " (4.527998574747076, 'Casablanca (1942)'),\n",
       " (4.510270149719864, 'Everest (1998)'),\n",
       " (4.493967755428438, 'Dangerous Beauty (1998)'),\n",
       " (4.485151301801341, 'Wallace & Gromit: The Best of Aardman Animation (1996)'),\n",
       " (4.463287461290221, 'Wrong Trousers, The (1993)'),\n",
       " (4.450979436941034, 'Kaspar Hauser (1993)'),\n",
       " (4.431079071179518, 'Usual Suspects, The (1995)'),\n",
       " (4.427520682864958, 'Maya Lin: A Strong Clear Vision (1994)'),\n",
       " (4.414870784592075, 'Wedding Gift, The (1994)'),\n",
       " (4.377445252656463, 'Affair to Remember, An (1957)'),\n",
       " (4.3760711104477705, 'Good Will Hunting (1997)'),\n",
       " (4.3760110990013965, 'As Good As It Gets (1997)'),\n",
       " (4.374146179500976, 'Anna (1996)'),\n",
       " (4.367437266504596, 'Close Shave, A (1995)')]"
      ]
     },
     "execution_count": 48,
     "metadata": {},
     "output_type": "execute_result"
    }
   ],
   "source": [
    "getRecommendations(prefs,'87')[0:30]"
   ]
  },
  {
   "cell_type": "code",
   "execution_count": 49,
   "metadata": {},
   "outputs": [
    {
     "name": "stdout",
     "output_type": "stream",
     "text": [
      "100 / 1664\n",
      "200 / 1664\n",
      "300 / 1664\n",
      "400 / 1664\n",
      "500 / 1664\n",
      "600 / 1664\n",
      "700 / 1664\n",
      "800 / 1664\n",
      "900 / 1664\n",
      "1000 / 1664\n",
      "1100 / 1664\n",
      "1200 / 1664\n",
      "1300 / 1664\n",
      "1400 / 1664\n",
      "1500 / 1664\n",
      "1600 / 1664\n"
     ]
    }
   ],
   "source": [
    "itemsim=calculateSimilarItems(prefs,n=50)"
   ]
  },
  {
   "cell_type": "code",
   "execution_count": 39,
   "metadata": {},
   "outputs": [
    {
     "data": {
      "text/plain": [
       "[(1.0, 'Yankee Zulu (1994)'),\n",
       " (1.0, 'Woman in Question, The (1950)'),\n",
       " (1.0, 'Witness (1985)'),\n",
       " (1.0, \"Wend Kuuni (God's Gift) (1982)\"),\n",
       " (1.0, 'Vie est belle, La (Life is Rosey) (1987)'),\n",
       " (1.0, 'Vermont Is For Lovers (1992)'),\n",
       " (1.0, 'Van, The (1996)'),\n",
       " (1.0, 'Two or Three Things I Know About Her (1966)'),\n",
       " (1.0, 'Two Much (1996)'),\n",
       " (1.0, 'Two Deaths (1995)'),\n",
       " (1.0, 'Two Bits (1995)'),\n",
       " (1.0, 'Touki Bouki (Journey of the Hyena) (1973)'),\n",
       " (1.0, 'Total Eclipse (1995)'),\n",
       " (1.0, 'To Have, or Not (1995)'),\n",
       " (1.0, 'To Cross the Rubicon (1991)'),\n",
       " (1.0, 'Tigrero: A Film That Was Never Made (1994)'),\n",
       " (1.0, 'The Courtyard (1995)'),\n",
       " (1.0, 'Terror in a Texas Town (1958)'),\n",
       " (1.0, 'Talking About Sex (1994)'),\n",
       " (1.0, 'T-Men (1947)'),\n",
       " (1.0, 'Symphonie pastorale, La (1946)'),\n",
       " (1.0, 'Swept from the Sea (1997)'),\n",
       " (1.0, 'Stranger in the House (1997)'),\n",
       " (1.0, 'Stonewall (1995)'),\n",
       " (1.0, 'Squeeze (1996)'),\n",
       " (1.0, 'Spirits of the Dead (Tre passi nel delirio) (1968)'),\n",
       " (1.0, 'Somebody to Love (1994)'),\n",
       " (1.0, 'So Dear to My Heart (1949)'),\n",
       " (1.0, 'Sliding Doors (1998)'),\n",
       " (1.0, 'Shooting Fish (1997)'),\n",
       " (1.0, 'Shadows (Cienie) (1988)'),\n",
       " (1.0, 'Secret Adventures of Tom Thumb, The (1993)'),\n",
       " (1.0, 'Scream of Stone (Schrei aus Stein) (1991)'),\n",
       " (1.0, 'Salut cousin! (1996)'),\n",
       " (1.0, 'Romper Stomper (1992)'),\n",
       " (1.0, 'Relative Fear (1994)'),\n",
       " (1.0, 'Quartier Mozart (1992)'),\n",
       " (1.0, 'Promise, The (Versprechen, Das) (1994)'),\n",
       " (1.0, 'Prefontaine (1997)'),\n",
       " (1.0, \"Pharaoh's Army (1995)\"),\n",
       " (1.0, 'Nosferatu a Venezia (1986)'),\n",
       " (1.0, 'Nina Takes a Lover (1994)'),\n",
       " (1.0, 'Niagara, Niagara (1997)'),\n",
       " (1.0, 'Mr. Jones (1993)'),\n",
       " (1.0, 'Mostro, Il (1994)'),\n",
       " (1.0, 'Modern Affair, A (1995)'),\n",
       " (1.0, 'Mighty, The (1998)'),\n",
       " (1.0, 'Metisse (Café au Lait) (1993)'),\n",
       " (1.0, 'Man from Down Under, The (1943)'),\n",
       " (1.0, 'Liebelei (1933)')]"
      ]
     },
     "execution_count": 39,
     "metadata": {},
     "output_type": "execute_result"
    }
   ],
   "source": [
    "itemsim[\"What's Eating Gilbert Grape (1993)\"]"
   ]
  },
  {
   "cell_type": "code",
   "execution_count": 50,
   "metadata": {},
   "outputs": [
    {
     "data": {
      "text/plain": [
       "[(5.0, \"What's Eating Gilbert Grape (1993)\"),\n",
       " (5.0, 'Vertigo (1958)'),\n",
       " (5.0, 'Usual Suspects, The (1995)'),\n",
       " (5.0, 'Toy Story (1995)'),\n",
       " (5.0, 'Titanic (1997)'),\n",
       " (5.0, 'Sword in the Stone, The (1963)'),\n",
       " (5.0, 'Stand by Me (1986)'),\n",
       " (5.0, 'Sling Blade (1996)'),\n",
       " (5.0, 'Silence of the Lambs, The (1991)'),\n",
       " (5.0, 'Shining, The (1980)'),\n",
       " (5.0, 'Shine (1996)'),\n",
       " (5.0, 'Sense and Sensibility (1995)'),\n",
       " (5.0, 'Scream (1996)'),\n",
       " (5.0, 'Rumble in the Bronx (1995)'),\n",
       " (5.0, 'Rock, The (1996)'),\n",
       " (5.0, 'Robin Hood: Prince of Thieves (1991)'),\n",
       " (5.0, 'Reservoir Dogs (1992)'),\n",
       " (5.0, 'Police Story 4: Project S (Chao ji ji hua) (1993)'),\n",
       " (5.0, 'House of the Spirits, The (1993)'),\n",
       " (5.0, 'Fresh (1994)'),\n",
       " (5.0, 'Denise Calls Up (1995)'),\n",
       " (5.0, 'Day the Sun Turned Cold, The (Tianguo niezi) (1994)'),\n",
       " (5.0, 'Before the Rain (Pred dozhdot) (1994)'),\n",
       " (5.0, 'Assignment, The (1997)'),\n",
       " (5.0, '1-900 (1994)'),\n",
       " (4.875, \"Ed's Next Move (1996)\"),\n",
       " (4.833333333333333, 'Anna (1996)'),\n",
       " (4.8, 'Dark City (1998)'),\n",
       " (4.75, 'Flower of My Secret, The (Flor de mi secreto, La) (1995)'),\n",
       " (4.75, 'Broken English (1996)')]"
      ]
     },
     "execution_count": 50,
     "metadata": {},
     "output_type": "execute_result"
    }
   ],
   "source": [
    "getRecommendedItems(prefs,itemsim,'87')[0:30]"
   ]
  },
  {
   "cell_type": "markdown",
   "metadata": {},
   "source": [
    "# Homework 1. Comparison of User-based and Item-based approaches\n",
    "\n",
    "1. Implement MAE  and RMSE errors' estimators for [Movie Lens](http://grouplens.org/datasets/movielens/) data with 100,000 ratings.  \n",
    "As a training set you need a file with .base extension, but a testing set has extension .test: the pairs of files u1.base and u1.test, ..., u5.base and u5.test. Each such pair is the 80%/20% random split of the input data for all users $u$ into test and training sets.\n",
    "2. For each method (user-based and item-based) plot MAE and RMSE dependence by the number of neighbours  in a range from 1 to 100 with a reasonable step.\n",
    "3. If you are not satisfied with your prediction quality (MAE>1.0), then try formulas 2.6 and 2.7 from the review http://files.grouplens.org/papers/FnT%20CF%20Recsys%20Survey.pdf.\n",
    "\n",
    "There are alternative formulas: $r_{u,i} = k\\sum\\limits_{u^\\prime \\in U}\\operatorname{sim}(u,u^\\prime)r_{u^\\prime, i} \\mbox{ (the case of user-based model):}$\n",
    "$$r_{u,i} = \\frac{1}{N}\\sum\\limits_{u^\\prime \\in U}r_{u^\\prime, i}$$\n",
    "$$r_{u,i} = \\bar{r_u} +  k\\sum\\limits_{u^\\prime \\in U} sim(u,u^\\prime)(r_{u^\\prime, i}-\\bar{r_{u^\\prime}} ) \\mbox{, где } k =1/\\sum_{u^\\prime \\in U}|\\operatorname{sim}(u,u^\\prime)|.$$\n",
    "4. Compare the results as in 1 and 2. \n",
    "5. How MAE (RMSE) varies by the top-n size: $n \\in \\{1,3,5,10,15,20,30,40,50,100\\}$? \n",
    "6. Which movies are recommended more often -- popular with high ratings or rare ones (i.e. with low number of ratings) with high ratings?\n",
    "7. What to do if the neigbourhood (similar users or items to a target user or a certain item) is too small? How to evaluate the confidence of such recommendations? \n",
    "8. *Auxiliary.* How different are top-n list for user-based and item-based methods. Try to improve the results by grid search on $\\beta$ parameter for MAE (RMSE) minimisation in hybrid recommendations depending on the number of neighbours (or top-n size):\n",
    "$$\\beta\\cdot r^{user-based}_{ui} + (1-\\beta)\\cdot r^{item-based}_{ui}, \\mbox{ where } 0 \\leq \\beta \\leq 1.$$ \n",
    "\n"
   ]
  },
  {
   "cell_type": "code",
   "execution_count": null,
   "metadata": {
    "collapsed": true
   },
   "outputs": [],
   "source": []
  }
 ],
 "metadata": {
  "kernelspec": {
   "display_name": "Python 3",
   "language": "python",
   "name": "python3"
  },
  "language_info": {
   "codemirror_mode": {
    "name": "ipython",
    "version": 3
   },
   "file_extension": ".py",
   "mimetype": "text/x-python",
   "name": "python",
   "nbconvert_exporter": "python",
   "pygments_lexer": "ipython3",
   "version": "3.7.6"
  },
  "name": "lesson11_recsys.ipynb"
 },
 "nbformat": 4,
 "nbformat_minor": 1
}
